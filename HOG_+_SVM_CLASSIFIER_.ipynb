{
  "nbformat": 4,
  "nbformat_minor": 0,
  "metadata": {
    "colab": {
      "name": "HOG + SVM CLASSIFIER .ipynb",
      "provenance": [],
      "collapsed_sections": [
        "9FMAmj3ZM_V8",
        "30ij4yG5NaYl",
        "PZRjbrvuaj8j"
      ],
      "include_colab_link": true
    },
    "kernelspec": {
      "name": "python3",
      "display_name": "Python 3"
    }
  },
  "cells": [
    {
      "cell_type": "markdown",
      "metadata": {
        "id": "view-in-github",
        "colab_type": "text"
      },
      "source": [
        "<a href=\"https://colab.research.google.com/github/lamechah/Image_Classifier_HOG_SVM/blob/main/HOG_%2B_SVM_CLASSIFIER_.ipynb\" target=\"_parent\"><img src=\"https://colab.research.google.com/assets/colab-badge.svg\" alt=\"Open In Colab\"/></a>"
      ]
    },
    {
      "cell_type": "markdown",
      "metadata": {
        "id": "ZCKEL8oG9UFq"
      },
      "source": [
        "##STEP 1: Importing packages"
      ]
    },
    {
      "cell_type": "code",
      "metadata": {
        "id": "yBq4ECEy5lsf",
        "outputId": "3fe5eedb-b5f7-4264-a4c1-cf269d0b52e9",
        "colab": {
          "base_uri": "https://localhost:8080/",
          "height": 51
        }
      },
      "source": [
        "import numpy as np\n",
        "import matplotlib.pyplot as plt\n",
        "from skimage import feature # This pacakge is used for LBP feature extraction\n",
        "from sklearn import svm # This pacakge is used for svm classification\n",
        "from sklearn import metrics\n",
        "%matplotlib inline\n",
        "import cv2\n",
        "import seaborn as sns # This pacakge is used for better visualization of data (e.g confusion matrix)"
      ],
      "execution_count": null,
      "outputs": [
        {
          "output_type": "stream",
          "text": [
            "/usr/local/lib/python3.6/dist-packages/statsmodels/tools/_testing.py:19: FutureWarning: pandas.util.testing is deprecated. Use the functions in the public API at pandas.testing instead.\n",
            "  import pandas.util.testing as tm\n"
          ],
          "name": "stderr"
        }
      ]
    },
    {
      "cell_type": "markdown",
      "metadata": {
        "id": "k46enj2tA5R0"
      },
      "source": [
        "Mount the Google Drive to access the MNIST Dataset"
      ]
    },
    {
      "cell_type": "code",
      "metadata": {
        "id": "M1NZcasqA9pj",
        "outputId": "954ee8a4-ca7c-40b7-ceae-70000970b6f1",
        "colab": {
          "base_uri": "https://localhost:8080/",
          "height": 122
        }
      },
      "source": [
        "from google.colab import drive\n",
        "drive.mount('/content/gdrive')"
      ],
      "execution_count": null,
      "outputs": [
        {
          "output_type": "stream",
          "text": [
            "Go to this URL in a browser: https://accounts.google.com/o/oauth2/auth?client_id=947318989803-6bn6qk8qdgf4n4g3pfee6491hc0brc4i.apps.googleusercontent.com&redirect_uri=urn%3aietf%3awg%3aoauth%3a2.0%3aoob&response_type=code&scope=email%20https%3a%2f%2fwww.googleapis.com%2fauth%2fdocs.test%20https%3a%2f%2fwww.googleapis.com%2fauth%2fdrive%20https%3a%2f%2fwww.googleapis.com%2fauth%2fdrive.photos.readonly%20https%3a%2f%2fwww.googleapis.com%2fauth%2fpeopleapi.readonly\n",
            "\n",
            "Enter your authorization code:\n",
            "··········\n",
            "Mounted at /content/gdrive\n"
          ],
          "name": "stdout"
        }
      ]
    },
    {
      "cell_type": "markdown",
      "metadata": {
        "id": "848Bof_ZBY1R"
      },
      "source": [
        "##STEP 2: Dataset preparation\n",
        "** Utility/Helper function to load Dataset, unzip it and return images and labels.** \n",
        "Reference: https://github.com/zalandoresearch/fashion-mnist\n"
      ]
    },
    {
      "cell_type": "code",
      "metadata": {
        "id": "hk_bogtrBeII"
      },
      "source": [
        "def load_mnist(path, kind='train'):\n",
        "    import os\n",
        "    import gzip\n",
        "    import numpy as np\n",
        "\n",
        "    \"\"\"Load MNIST data from `path`\"\"\"\n",
        "    labels_path = os.path.join(path,\n",
        "                               '%s-labels-idx1-ubyte.gz'\n",
        "                               % kind)\n",
        "    images_path = os.path.join(path,\n",
        "                               '%s-images-idx3-ubyte.gz'\n",
        "                               % kind)\n",
        "\n",
        "    with gzip.open(labels_path, 'rb') as lbpath:\n",
        "        labels = np.frombuffer(lbpath.read(), dtype=np.uint8,\n",
        "                               offset=8)\n",
        "\n",
        "    with gzip.open(images_path, 'rb') as imgpath:\n",
        "        images = np.frombuffer(imgpath.read(), dtype=np.uint8,\n",
        "                               offset=16).reshape(len(labels), 784)\n",
        "\n",
        "    return images, labels"
      ],
      "execution_count": null,
      "outputs": []
    },
    {
      "cell_type": "code",
      "metadata": {
        "id": "mkfRkdavBtZv",
        "outputId": "9b46d146-61f9-4aa0-f3f1-ca8854e16bec",
        "colab": {
          "base_uri": "https://localhost:8080/",
          "height": 68
        }
      },
      "source": [
        "%cd /content/gdrive/My Drive/Deep_Learning/ASS1/data\n",
        "!unzip data_ass1.zip\n"
      ],
      "execution_count": null,
      "outputs": [
        {
          "output_type": "stream",
          "text": [
            "/content/gdrive/My Drive/Deep_Learning/ASS1/data\n",
            "Archive:  data_ass1.zip\n",
            "replace t10k-images-idx3-ubyte.gz? [y]es, [n]o, [A]ll, [N]one, [r]ename: N\n"
          ],
          "name": "stdout"
        }
      ]
    },
    {
      "cell_type": "code",
      "metadata": {
        "id": "EkBUsssiEKwC",
        "outputId": "7cd13a97-a2fa-45e3-8d67-5c2e4b9bee78",
        "colab": {
          "base_uri": "https://localhost:8080/",
          "height": 51
        }
      },
      "source": [
        "ls"
      ],
      "execution_count": null,
      "outputs": [
        {
          "output_type": "stream",
          "text": [
            "\u001b[0m\u001b[01;34mcache\u001b[0m/         t10k-images-idx3-ubyte.gz  train-images-idx3-ubyte.gz\n",
            "data_ass1.zip  t10k-labels-idx1-ubyte.gz  train-labels-idx1-ubyte.gz\n"
          ],
          "name": "stdout"
        }
      ]
    },
    {
      "cell_type": "markdown",
      "metadata": {
        "id": "5lGdnuWBKabh"
      },
      "source": [
        "* Use the utility function to load the dataset and split it into train and test."
      ]
    },
    {
      "cell_type": "code",
      "metadata": {
        "id": "iCf6BRY-KaFZ"
      },
      "source": [
        "#Split the data (X and Y) for training and testing. \n",
        "#x represents the images and y are the labels or class names for each digit\n",
        "X_train, y_train = load_mnist('/content/gdrive/My Drive/Deep_Learning/ASS1/data', kind='train')\n",
        "X_test, y_test = load_mnist('/content/gdrive/My Drive/Deep_Learning/ASS1/data', kind='t10k')\n",
        "\n",
        "labelNames = [\"0\",\"1\",\"2\",\"3\",\"4\",\"5\",\"6\",\"7\",\"8\",\"9\"]"
      ],
      "execution_count": null,
      "outputs": []
    },
    {
      "cell_type": "markdown",
      "metadata": {
        "id": "7LQpc1ySLj4R"
      },
      "source": [
        "Analyze shape of samples"
      ]
    },
    {
      "cell_type": "code",
      "metadata": {
        "id": "3QZLgX1sKosA",
        "outputId": "9939f031-8ae0-4eb0-9acf-f59044d23ebe",
        "colab": {
          "base_uri": "https://localhost:8080/",
          "height": 51
        }
      },
      "source": [
        "# The 28X28 images are flattened to feature vector of size 784\n",
        "# There are 60,000 training examples in the training dataset\n",
        "# There are 10,000 test sample in the testing dataset\n",
        "print(np.shape(X_train))\n",
        "print(np.shape(X_test))"
      ],
      "execution_count": null,
      "outputs": [
        {
          "output_type": "stream",
          "text": [
            "(60000, 784)\n",
            "(10000, 784)\n"
          ],
          "name": "stdout"
        }
      ]
    },
    {
      "cell_type": "markdown",
      "metadata": {
        "id": "uQsOp_5uLy9A"
      },
      "source": [
        "** Reshaping the feature vector back into the 28X28 image**"
      ]
    },
    {
      "cell_type": "code",
      "metadata": {
        "id": "jzMBj9QTL1AM",
        "outputId": "86f49f00-41e6-443c-9713-0080cfa23d0e",
        "colab": {
          "base_uri": "https://localhost:8080/",
          "height": 51
        }
      },
      "source": [
        "X_train=X_train.reshape(-1,28,28)\n",
        "X_test=X_test.reshape(-1,28,28)\n",
        "\n",
        "# print the size of the result reshaped train and test data splits\n",
        "\n",
        "print(\"Train dataset after reshaping:{}\".format(np.shape(X_train)))\n",
        "print(\"Test dataset after reshaping :{}\".format(np.shape(X_test)))"
      ],
      "execution_count": null,
      "outputs": [
        {
          "output_type": "stream",
          "text": [
            "Train dataset after reshaping:(60000, 28, 28)\n",
            "Test dataset after reshaping :(10000, 28, 28)\n"
          ],
          "name": "stdout"
        }
      ]
    },
    {
      "cell_type": "markdown",
      "metadata": {
        "id": "9FMAmj3ZM_V8"
      },
      "source": [
        "##Step 3: Histogram-of-Oriented Gradient (HOG) feature extraction"
      ]
    },
    {
      "cell_type": "code",
      "metadata": {
        "id": "amEUj8j_NAwi",
        "outputId": "db49a408-1901-45c7-a816-746863c76b5d",
        "colab": {
          "base_uri": "https://localhost:8080/",
          "height": 68
        }
      },
      "source": [
        "# initialize the data matrix and labels\n",
        "print(\"Extracting features from training dataset...\")\n",
        "data_train = []\n",
        "labels_train = []\n",
        "\n",
        "# loop over the training images\n",
        "for img_index in range(len(X_train)):\n",
        "  # load the image, and extract HOG features it\n",
        "  image = (X_train[img_index]) \n",
        "  H = feature.hog(image, orientations=11, pixels_per_cell=(4,4), \n",
        "                  cells_per_block=(2,2), transform_sqrt=True, block_norm=\"L2-Hys\") \n",
        " \n",
        "  # update the data and labels\n",
        "  data_train.append(H)\n",
        " \n",
        "  labels_train.append(y_train[img_index]) \n",
        "\n",
        "print(np.shape(data_train))\n",
        "print(np.shape(labels_train))"
      ],
      "execution_count": null,
      "outputs": [
        {
          "output_type": "stream",
          "text": [
            "Extracting features from training dataset...\n",
            "(60000, 1584)\n",
            "(60000,)\n"
          ],
          "name": "stdout"
        }
      ]
    },
    {
      "cell_type": "code",
      "metadata": {
        "id": "IVEr1IcNlVkd",
        "outputId": "06d326bc-a759-4205-f85c-9180a2ad73a1",
        "colab": {
          "base_uri": "https://localhost:8080/",
          "height": 34
        }
      },
      "source": [
        "img_index"
      ],
      "execution_count": null,
      "outputs": [
        {
          "output_type": "execute_result",
          "data": {
            "text/plain": [
              "59999"
            ]
          },
          "metadata": {
            "tags": []
          },
          "execution_count": 13
        }
      ]
    },
    {
      "cell_type": "markdown",
      "metadata": {
        "id": "30ij4yG5NaYl"
      },
      "source": [
        "##Step 4. Train SVM Classifier using the training dataset "
      ]
    },
    {
      "cell_type": "code",
      "metadata": {
        "id": "5dGSPxrONcIj",
        "outputId": "d0f7f5c5-b19e-4f58-9120-7977b0a3eff5",
        "colab": {
          "base_uri": "https://localhost:8080/",
          "height": 51
        }
      },
      "source": [
        "# train a SVM clasifier on the training data\n",
        "# Initialize the SVM model\n",
        "\n",
        "model = svm.SVC(C=10.0, kernel='rbf', random_state=42 ) \n",
        "# Start training the SVM classifier \n",
        "model.fit(data_train, labels_train)\n",
        " \n",
        "\n",
        "print(np.shape(data_train))\n",
        "print(np.shape(labels_train))"
      ],
      "execution_count": null,
      "outputs": [
        {
          "output_type": "stream",
          "text": [
            "(60000, 1584)\n",
            "(60000,)\n"
          ],
          "name": "stdout"
        }
      ]
    },
    {
      "cell_type": "markdown",
      "metadata": {
        "id": "nJYTkWOINz_e"
      },
      "source": [
        "Train set accuracy"
      ]
    },
    {
      "cell_type": "code",
      "metadata": {
        "id": "wWgtvCaEN4ph",
        "outputId": "5460b488-8c7b-498c-f984-5e6db5b35f3a",
        "colab": {
          "base_uri": "https://localhost:8080/",
          "height": 34
        }
      },
      "source": [
        "# Check the training accuray\n",
        "print(\"Train set Accuracy: {:.2f}\".format(model.score(data_train,labels_train)))"
      ],
      "execution_count": null,
      "outputs": [
        {
          "output_type": "stream",
          "text": [
            "Train set Accuracy: 1.00\n"
          ],
          "name": "stdout"
        }
      ]
    },
    {
      "cell_type": "markdown",
      "metadata": {
        "id": "PZRjbrvuaj8j"
      },
      "source": [
        "##Step 5. Evaluation of trained SVM model on test dataset"
      ]
    },
    {
      "cell_type": "code",
      "metadata": {
        "id": "394IXBluanWM",
        "outputId": "2f7422cc-720c-48d5-f1ff-ba07f5a847d6",
        "colab": {
          "base_uri": "https://localhost:8080/",
          "height": 68
        }
      },
      "source": [
        "# initialize the data matrix and labels\n",
        "print(\"Extracting features from test dataset...\")\n",
        "predict_test = []\n",
        "labels_test = []\n",
        "data_test=[]\n",
        "# loop over the training images\n",
        "for img_ind in range(len(X_test)):\n",
        "  # load the image, and extract HOG features\n",
        "  img=(X_test[img_ind]) \n",
        "  H = feature.hog(img, orientations=11, pixels_per_cell=(4,4), \n",
        "                  cells_per_block=(2,2), transform_sqrt=True, block_norm=\"L2-Hys\") \n",
        "  pred = model.predict(H.reshape(1,-1))[0]\n",
        "  # update the data and labels\n",
        "  predict_test.append(pred)\n",
        "  data_test.append(H)\n",
        "  labels_test.append(y_test[img_ind])\n",
        "\n",
        "  \n",
        "print(np.shape(predict_test))\n",
        "print(np.shape(labels_test))"
      ],
      "execution_count": null,
      "outputs": [
        {
          "output_type": "stream",
          "text": [
            "Extracting features from test dataset...\n",
            "(10000,)\n",
            "(10000,)\n"
          ],
          "name": "stdout"
        }
      ]
    },
    {
      "cell_type": "markdown",
      "metadata": {
        "id": "wa2O8YSTavV_"
      },
      "source": [
        "Test accuracy"
      ]
    },
    {
      "cell_type": "code",
      "metadata": {
        "id": "wjmq-m1Har03",
        "outputId": "ec7ef544-6070-4347-dbdf-f5638f14ae7a",
        "colab": {
          "base_uri": "https://localhost:8080/",
          "height": 34
        }
      },
      "source": [
        "# Test set Accuracy\n",
        "accuracy = metrics.accuracy_score (y_test, predict_test)\n",
        "print(\"Accuracy on test dataset:\",accuracy)"
      ],
      "execution_count": null,
      "outputs": [
        {
          "output_type": "stream",
          "text": [
            "Accuracy on test dataset: 0.9893\n"
          ],
          "name": "stdout"
        }
      ]
    },
    {
      "cell_type": "code",
      "metadata": {
        "id": "UFnXYZRYa13f",
        "outputId": "a77dc783-4fd4-4a47-bd12-7b456fc86ad0",
        "colab": {
          "base_uri": "https://localhost:8080/",
          "height": 696
        }
      },
      "source": [
        "# plot the confusion matrix\n",
        "cm  = metrics.confusion_matrix(y_test, predict_test)\n",
        "print(cm)\n",
        "\n",
        "# Plot confusion matrix using seaborn library\n",
        "plt.figure(figsize=(9,9))\n",
        "sns.heatmap(cm, annot=True, fmt=\".3f\", linewidths=.5, square = True, cmap = 'Blues_r');\n",
        "plt.ylabel('Actual label');\n",
        "plt.xlabel('Predicted label');\n",
        "all_sample_title = 'Accuracy Score: {0}'.format(accuracy)\n",
        "plt.title(all_sample_title, size = 15);"
      ],
      "execution_count": null,
      "outputs": [
        {
          "output_type": "stream",
          "text": [
            "[[ 977    0    0    0    0    0    2    1    0    0]\n",
            " [   0 1131    1    1    0    0    1    0    1    0]\n",
            " [   1    2 1022    0    0    0    0    6    1    0]\n",
            " [   0    1    1 1004    0    1    0    0    2    1]\n",
            " [   0    1    0    0  977    0    1    0    0    3]\n",
            " [   2    0    0    5    0  883    2    0    0    0]\n",
            " [   2    2    0    0    1    2  950    0    1    0]\n",
            " [   0    5    7    0    1    0    0 1009    2    4]\n",
            " [   2    2    1    5    2    1    0    2  955    4]\n",
            " [   2    4    1    4    5    0    0    4    4  985]]\n"
          ],
          "name": "stdout"
        },
        {
          "output_type": "display_data",
          "data": {
            "image/png": "[encoded data removed]",
            "text/plain": [
              "<Figure size 648x648 with 2 Axes>"
            ]
          },
          "metadata": {
            "tags": [],
            "needs_background": "light"
          }
        }
      ]
    },
    {
      "cell_type": "markdown",
      "metadata": {
        "id": "hcTyCB4nmqu-"
      },
      "source": [
        "##Step 6: Visualization of results"
      ]
    },
    {
      "cell_type": "code",
      "metadata": {
        "id": "gesDmSvga9UP"
      },
      "source": [
        "images = []\n",
        "orig_labels=[]\n",
        "# randomly select a few testing  items\n",
        "for i in np.random.choice(np.arange(0, len(y_test)), size=(16,)):\n",
        "  # classify the clothing\n",
        "  test_img = (X_test[i])\n",
        "  H1 = feature.hog(test_img, orientations=11, pixels_per_cell=(4, 4),\n",
        "                  cells_per_block=(2, 2), transform_sqrt=True, block_norm=\"L2-Hys\")\n",
        "  pred = model.predict(H1.reshape(1, -1))[0]\n",
        "  #prediction = model.predict(test_img.reshape(1, -1))\n",
        "  label = labelNames[pred]\n",
        "  orig_labels.append(labelNames[y_test[i]])\n",
        "  color = (0, 255, 0)\n",
        "  test_img = cv2.merge([test_img] * 3)\n",
        "  test_img = cv2.resize(test_img, (96, 96), interpolation=cv2.INTER_LINEAR)\n",
        "  cv2.putText(test_img, label, (5, 20), cv2.FONT_HERSHEY_SIMPLEX, 0.50, color, 2)\n",
        "  images.append(test_img)"
      ],
      "execution_count": null,
      "outputs": []
    },
    {
      "cell_type": "code",
      "metadata": {
        "id": "j6YFHWnybBAb",
        "outputId": "3622e056-5715-41b3-bf35-8aeae5f0861b",
        "colab": {
          "base_uri": "https://localhost:8080/",
          "height": 34
        }
      },
      "source": [
        "orig_labels[1]"
      ],
      "execution_count": null,
      "outputs": [
        {
          "output_type": "execute_result",
          "data": {
            "text/plain": [
              "'4'"
            ]
          },
          "metadata": {
            "tags": []
          },
          "execution_count": 21
        }
      ]
    },
    {
      "cell_type": "code",
      "metadata": {
        "id": "69xDXaXBbDh8",
        "outputId": "a374caef-8ea5-4f58-eade-4b37e7f12858",
        "colab": {
          "base_uri": "https://localhost:8080/",
          "height": 337
        }
      },
      "source": [
        "## Display the classification results\n",
        "fig = plt.figure()\n",
        "ax1 = fig.add_subplot(2,2,1)\n",
        "ax1.imshow(images[1])\n",
        "print(orig_labels[1])\n",
        "ax2 = fig.add_subplot(2,2,2)\n",
        "ax2.imshow(images[2])\n",
        "print(orig_labels[2])\n",
        "ax3 = fig.add_subplot(2,2,3)\n",
        "ax3.imshow(images[3])\n",
        "print(orig_labels[3])\n",
        "ax4 = fig.add_subplot(2,2,4)\n",
        "ax4.imshow(images[4])\n",
        "print(orig_labels[4])"
      ],
      "execution_count": null,
      "outputs": [
        {
          "output_type": "stream",
          "text": [
            "4\n",
            "7\n",
            "6\n",
            "4\n"
          ],
          "name": "stdout"
        },
        {
          "output_type": "display_data",
          "data": {
            "image/png": "[encoded data removed]",
            "text/plain": [
              "<Figure size 432x288 with 4 Axes>"
            ]
          },
          "metadata": {
            "tags": [],
            "needs_background": "light"
          }
        }
      ]
    }
  ]
}